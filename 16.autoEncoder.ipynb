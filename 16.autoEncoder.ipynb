{
 "cells": [
  {
   "cell_type": "code",
   "execution_count": 1,
   "id": "7d6ab842-9799-46da-8a0d-78c960560f08",
   "metadata": {},
   "outputs": [],
   "source": [
    "import numpy as np\n",
    "import tensorflow as tf\n",
    "import matplotlib.pyplot as plt\n",
    "\n",
    "# 로이터 뉴스 데이터 셋 불러오기\n",
    "from tensorflow.keras.datasets import mnist\n",
    "from tensorflow.keras.models import Sequential, Model\n",
    "from tensorflow.keras.layers import Dense, Dropout, Activation, Input,Reshape, Flatten, Reshape\n",
    "from tensorflow.keras.layers import Embedding , LSTM, BatchNormalization, LeakyReLU, UpSampling2D, Conv2D\n",
    "from tensorflow.keras.preprocessing import sequence\n",
    "from tensorflow.keras.utils import to_categorical\n",
    "from tensorflow.keras.datasets import imdb\n",
    "from tensorflow.keras.layers import Conv1D, MaxPooling2D"
   ]
  },
  {
   "cell_type": "code",
   "execution_count": 3,
   "id": "4325eff2-533e-4d0a-b1a2-cd8f57113008",
   "metadata": {},
   "outputs": [],
   "source": [
    "(X_train, _), (X_test, _) = mnist.load_data()\n",
    "\n",
    "X_train = x_train.reshape(X_train.shape[0],28,28,1).\\\n",
    "                                    astype('float32')/ 255\n",
    "X_test = x_test.reshape(X_test.shape[0],28,28,1).\\\n",
    "                                    astype('float32')/ 255"
   ]
  },
  {
   "cell_type": "code",
   "execution_count": 4,
   "id": "64d19047-5bad-4826-b3fa-c1d74f2a863a",
   "metadata": {},
   "outputs": [],
   "source": [
    "autoencoder = Sequential() "
   ]
  },
  {
   "cell_type": "code",
   "execution_count": 5,
   "id": "cbc53c1c-d7b6-4bcd-87ec-725f5d20056e",
   "metadata": {},
   "outputs": [],
   "source": [
    "autoencoder.add(Conv2D(16, kernel_size=3, padding='same', input_shape=(28, 28, 1), activation='relu'))"
   ]
  },
  {
   "cell_type": "code",
   "execution_count": 6,
   "id": "6f16a523-f957-45db-9567-41a69171198b",
   "metadata": {},
   "outputs": [
    {
     "name": "stdout",
     "output_type": "stream",
     "text": [
      "Model: \"sequential\"\n",
      "_________________________________________________________________\n",
      "Layer (type)                 Output Shape              Param #   \n",
      "=================================================================\n",
      "conv2d (Conv2D)              (None, 28, 28, 16)        160       \n",
      "=================================================================\n",
      "Total params: 160\n",
      "Trainable params: 160\n",
      "Non-trainable params: 0\n",
      "_________________________________________________________________\n"
     ]
    }
   ],
   "source": [
    "autoencoder.summary()"
   ]
  },
  {
   "cell_type": "code",
   "execution_count": 7,
   "id": "667fb4f8-656d-4c6b-a830-12099d7da329",
   "metadata": {},
   "outputs": [],
   "source": [
    "# encoding\n",
    "autoencoder.add(MaxPooling2D(pool_size=2, padding='same')) # 사이즈는 줄지만 다시 원래대로 돌아오기 때문에 문제없음\n"
   ]
  },
  {
   "cell_type": "code",
   "execution_count": 8,
   "id": "643302fb-2f98-4ed7-ab37-d1e9719c966e",
   "metadata": {},
   "outputs": [],
   "source": [
    "autoencoder.add(Conv2D(8, kernel_size=3, activation='relu', padding='same')) # 사이즈를 3으로 다시 통과 시킨다"
   ]
  },
  {
   "cell_type": "code",
   "execution_count": 9,
   "id": "5d44aa04-70f1-4b64-8bec-08b344561ab9",
   "metadata": {},
   "outputs": [],
   "source": [
    "autoencoder.add(MaxPooling2D(pool_size=2, padding='same')) "
   ]
  },
  {
   "cell_type": "code",
   "execution_count": 10,
   "id": "3da47750-4f24-4682-b63c-88e44afec131",
   "metadata": {},
   "outputs": [],
   "source": [
    "autoencoder.add(Conv2D(8, kernel_size=3, strides=2, padding='same', activation='relu'))"
   ]
  },
  {
   "cell_type": "code",
   "execution_count": 11,
   "id": "4cb52b2b-b8da-4441-8add-6b2aa34bcf05",
   "metadata": {},
   "outputs": [
    {
     "name": "stdout",
     "output_type": "stream",
     "text": [
      "Model: \"sequential\"\n",
      "_________________________________________________________________\n",
      "Layer (type)                 Output Shape              Param #   \n",
      "=================================================================\n",
      "conv2d (Conv2D)              (None, 28, 28, 16)        160       \n",
      "_________________________________________________________________\n",
      "max_pooling2d (MaxPooling2D) (None, 14, 14, 16)        0         \n",
      "_________________________________________________________________\n",
      "conv2d_1 (Conv2D)            (None, 14, 14, 8)         1160      \n",
      "_________________________________________________________________\n",
      "max_pooling2d_1 (MaxPooling2 (None, 7, 7, 8)           0         \n",
      "_________________________________________________________________\n",
      "conv2d_2 (Conv2D)            (None, 4, 4, 8)           584       \n",
      "_________________________________________________________________\n",
      "conv2d_3 (Conv2D)            (None, 4, 4, 8)           584       \n",
      "_________________________________________________________________\n",
      "up_sampling2d (UpSampling2D) (None, 8, 8, 8)           0         \n",
      "_________________________________________________________________\n",
      "conv2d_4 (Conv2D)            (None, 8, 8, 8)           584       \n",
      "_________________________________________________________________\n",
      "up_sampling2d_1 (UpSampling2 (None, 16, 16, 8)         0         \n",
      "_________________________________________________________________\n",
      "conv2d_5 (Conv2D)            (None, 14, 14, 16)        1168      \n",
      "_________________________________________________________________\n",
      "up_sampling2d_2 (UpSampling2 (None, 28, 28, 16)        0         \n",
      "_________________________________________________________________\n",
      "conv2d_6 (Conv2D)            (None, 28, 28, 1)         145       \n",
      "=================================================================\n",
      "Total params: 4,385\n",
      "Trainable params: 4,385\n",
      "Non-trainable params: 0\n",
      "_________________________________________________________________\n"
     ]
    }
   ],
   "source": [
    "# Decoding\n",
    "# stries를 알기 때문에 현재 사이즈가 어떻게 되는지 계산 할 수 있어야 한다.\n",
    "# 다시 원래 사이즈로 돌려야 하기 때문에 현재 사이즈를 알아야 할필요성이 있음\n",
    "\n",
    "autoencoder.add(Conv2D(8, kernel_size=3, padding='same', activation='relu'))\n",
    "autoencoder.add(UpSampling2D())\n",
    "autoencoder.add(Conv2D(8, kernel_size=3, padding='same', activation='relu'))\n",
    "autoencoder.add(UpSampling2D())\n",
    "autoencoder.add(Conv2D(16, kernel_size=3, activation='relu'))\n",
    "autoencoder.add(UpSampling2D())\n",
    "autoencoder.add(Conv2D(1, kernel_size=3, padding='same', activation='sigmoid'))\n",
    "\n",
    "autoencoder.summary()\n"
   ]
  },
  {
   "cell_type": "code",
   "execution_count": 12,
   "id": "1b277050-3d1b-450c-81c4-96794f5ca9ce",
   "metadata": {},
   "outputs": [
    {
     "name": "stdout",
     "output_type": "stream",
     "text": [
      "Epoch 1/50\n",
      "469/469 [==============================] - 38s 80ms/step - loss: 0.2046 - val_loss: 0.1345\n",
      "Epoch 2/50\n",
      "469/469 [==============================] - 37s 80ms/step - loss: 0.1259 - val_loss: 0.1183\n",
      "Epoch 3/50\n",
      "469/469 [==============================] - 38s 80ms/step - loss: 0.1149 - val_loss: 0.1101\n",
      "Epoch 4/50\n",
      "469/469 [==============================] - 38s 80ms/step - loss: 0.1088 - val_loss: 0.1056\n",
      "Epoch 5/50\n",
      "469/469 [==============================] - 36s 76ms/step - loss: 0.1051 - val_loss: 0.1030\n",
      "Epoch 6/50\n",
      "469/469 [==============================] - 39s 83ms/step - loss: 0.1025 - val_loss: 0.1002\n",
      "Epoch 7/50\n",
      "469/469 [==============================] - 37s 79ms/step - loss: 0.1003 - val_loss: 0.0981\n",
      "Epoch 8/50\n",
      "469/469 [==============================] - 37s 80ms/step - loss: 0.0986 - val_loss: 0.0967\n",
      "Epoch 9/50\n",
      "469/469 [==============================] - 38s 80ms/step - loss: 0.0973 - val_loss: 0.0963\n",
      "Epoch 10/50\n",
      "469/469 [==============================] - 38s 81ms/step - loss: 0.0964 - val_loss: 0.0950\n",
      "Epoch 11/50\n",
      "469/469 [==============================] - 39s 83ms/step - loss: 0.0955 - val_loss: 0.0939\n",
      "Epoch 12/50\n",
      "469/469 [==============================] - 39s 83ms/step - loss: 0.0948 - val_loss: 0.0932\n",
      "Epoch 13/50\n",
      "469/469 [==============================] - 38s 81ms/step - loss: 0.0942 - val_loss: 0.0925\n",
      "Epoch 14/50\n",
      "469/469 [==============================] - 37s 79ms/step - loss: 0.0936 - val_loss: 0.0921\n",
      "Epoch 15/50\n",
      "469/469 [==============================] - 38s 82ms/step - loss: 0.0930 - val_loss: 0.0925\n",
      "Epoch 16/50\n",
      "469/469 [==============================] - 37s 79ms/step - loss: 0.0926 - val_loss: 0.0910\n",
      "Epoch 17/50\n",
      "469/469 [==============================] - 37s 78ms/step - loss: 0.0920 - val_loss: 0.0906\n",
      "Epoch 18/50\n",
      "469/469 [==============================] - 36s 77ms/step - loss: 0.0916 - val_loss: 0.0906\n",
      "Epoch 19/50\n",
      "469/469 [==============================] - 36s 77ms/step - loss: 0.0911 - val_loss: 0.0905\n",
      "Epoch 20/50\n",
      "469/469 [==============================] - 37s 79ms/step - loss: 0.0906 - val_loss: 0.0893\n",
      "Epoch 21/50\n",
      "469/469 [==============================] - 37s 79ms/step - loss: 0.0902 - val_loss: 0.0891\n",
      "Epoch 22/50\n",
      "469/469 [==============================] - 37s 78ms/step - loss: 0.0899 - val_loss: 0.0885\n",
      "Epoch 23/50\n",
      "469/469 [==============================] - 36s 78ms/step - loss: 0.0895 - val_loss: 0.0882\n",
      "Epoch 24/50\n",
      "469/469 [==============================] - 36s 77ms/step - loss: 0.0892 - val_loss: 0.0881\n",
      "Epoch 25/50\n",
      "469/469 [==============================] - 36s 76ms/step - loss: 0.0889 - val_loss: 0.0882\n",
      "Epoch 26/50\n",
      "469/469 [==============================] - 36s 76ms/step - loss: 0.0886 - val_loss: 0.0873\n",
      "Epoch 27/50\n",
      "469/469 [==============================] - 38s 81ms/step - loss: 0.0883 - val_loss: 0.0870\n",
      "Epoch 28/50\n",
      "469/469 [==============================] - 36s 78ms/step - loss: 0.0881 - val_loss: 0.0869\n",
      "Epoch 29/50\n",
      "469/469 [==============================] - 36s 76ms/step - loss: 0.0878 - val_loss: 0.0866\n",
      "Epoch 30/50\n",
      "469/469 [==============================] - 36s 76ms/step - loss: 0.0876 - val_loss: 0.0864\n",
      "Epoch 31/50\n",
      "469/469 [==============================] - 36s 77ms/step - loss: 0.0874 - val_loss: 0.0861\n",
      "Epoch 32/50\n",
      "469/469 [==============================] - 37s 78ms/step - loss: 0.0872 - val_loss: 0.0860\n",
      "Epoch 33/50\n",
      "469/469 [==============================] - 35s 76ms/step - loss: 0.0870 - val_loss: 0.0858\n",
      "Epoch 34/50\n",
      "469/469 [==============================] - 35s 75ms/step - loss: 0.0868 - val_loss: 0.0857\n",
      "Epoch 35/50\n",
      "469/469 [==============================] - 35s 76ms/step - loss: 0.0866 - val_loss: 0.0856\n",
      "Epoch 36/50\n",
      "469/469 [==============================] - 35s 75ms/step - loss: 0.0864 - val_loss: 0.0853\n",
      "Epoch 37/50\n",
      "469/469 [==============================] - 35s 75ms/step - loss: 0.0863 - val_loss: 0.0851\n",
      "Epoch 38/50\n",
      "469/469 [==============================] - 35s 76ms/step - loss: 0.0861 - val_loss: 0.0849\n",
      "Epoch 39/50\n",
      "469/469 [==============================] - 35s 75ms/step - loss: 0.0860 - val_loss: 0.0847\n",
      "Epoch 40/50\n",
      "469/469 [==============================] - 35s 76ms/step - loss: 0.0857 - val_loss: 0.0849\n",
      "Epoch 41/50\n",
      "469/469 [==============================] - 35s 75ms/step - loss: 0.0856 - val_loss: 0.0843\n",
      "Epoch 42/50\n",
      "469/469 [==============================] - 35s 76ms/step - loss: 0.0854 - val_loss: 0.0844\n",
      "Epoch 43/50\n",
      "469/469 [==============================] - 35s 76ms/step - loss: 0.0853 - val_loss: 0.0848\n",
      "Epoch 44/50\n",
      "469/469 [==============================] - 35s 75ms/step - loss: 0.0851 - val_loss: 0.0839\n",
      "Epoch 45/50\n",
      "469/469 [==============================] - 35s 76ms/step - loss: 0.0850 - val_loss: 0.0838\n",
      "Epoch 46/50\n",
      "469/469 [==============================] - 35s 75ms/step - loss: 0.0849 - val_loss: 0.0837\n",
      "Epoch 47/50\n",
      "469/469 [==============================] - 36s 76ms/step - loss: 0.0848 - val_loss: 0.0836\n",
      "Epoch 48/50\n",
      "469/469 [==============================] - 36s 76ms/step - loss: 0.0846 - val_loss: 0.0835\n",
      "Epoch 49/50\n",
      "469/469 [==============================] - 35s 75ms/step - loss: 0.0845 - val_loss: 0.0839\n",
      "Epoch 50/50\n",
      "469/469 [==============================] - 36s 76ms/step - loss: 0.0844 - val_loss: 0.0834\n"
     ]
    },
    {
     "data": {
      "text/plain": [
       "<tensorflow.python.keras.callbacks.History at 0x163dc14aa08>"
      ]
     },
     "execution_count": 12,
     "metadata": {},
     "output_type": "execute_result"
    }
   ],
   "source": [
    "autoencoder.compile(optimizer='adam', loss='binary_crossentropy')\n",
    "autoencoder.fit(X_train, X_train, epochs=50, batch_size=128, validation_data=(X_test, X_test))"
   ]
  },
  {
   "cell_type": "code",
   "execution_count": 13,
   "id": "974440b0-83df-47e0-8918-6dc663b1a9ec",
   "metadata": {},
   "outputs": [
    {
     "data": {
      "image/png": "[encoded data removed]",
      "text/plain": [
       "<Figure size 700x200 with 10 Axes>"
      ]
     },
     "metadata": {},
     "output_type": "display_data"
    }
   ],
   "source": [
    "random_test = np.random.randint(X_test.shape[0], size=5)  #테스트할 이미지를 랜덤하게 불러옵니다.\n",
    "ae_imgs = autoencoder.predict(X_test)  #앞서 만든 오토인코더 모델에 집어 넣습니다.\n",
    "\n",
    "plt.figure(figsize=(7, 2))  #출력될 이미지의 크기를 정합니다.\n",
    "\n",
    "for i, image_idx in enumerate(random_test):    #랜덤하게 뽑은 이미지를 차례로 나열합니다.\n",
    "   ax = plt.subplot(2, 7, i + 1) \n",
    "   plt.imshow(X_test[image_idx].reshape(28, 28))  #테스트할 이미지를 먼저 그대로 보여줍니다.\n",
    "   ax.axis('off')\n",
    "   ax = plt.subplot(2, 7, 7 + i +1)\n",
    "   plt.imshow(ae_imgs[image_idx].reshape(28, 28))  #오토인코딩 결과를 다음열에 출력합니다.\n",
    "   ax.axis('off')\n",
    "plt.show()"
   ]
  },
  {
   "cell_type": "code",
   "execution_count": null,
   "id": "7abbf93e-4c8e-40b8-8904-925c7b4e9e2e",
   "metadata": {},
   "outputs": [],
   "source": []
  }
 ],
 "metadata": {
  "kernelspec": {
   "display_name": "Python 3",
   "language": "python",
   "name": "python3"
  },
  "language_info": {
   "codemirror_mode": {
    "name": "ipython",
    "version": 3
   },
   "file_extension": ".py",
   "mimetype": "text/x-python",
   "name": "python",
   "nbconvert_exporter": "python",
   "pygments_lexer": "ipython3",
   "version": "3.7.11"
  }
 },
 "nbformat": 4,
 "nbformat_minor": 5
}
